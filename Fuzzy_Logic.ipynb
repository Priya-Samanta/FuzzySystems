{
  "cells": [
    {
      "cell_type": "markdown",
      "metadata": {
        "id": "view-in-github",
        "colab_type": "text"
      },
      "source": [
        "<a href=\"https://colab.research.google.com/github/Priya-Samanta/FuzzySystems/blob/main/Fuzzy_Logic.ipynb\" target=\"_parent\"><img src=\"https://colab.research.google.com/assets/colab-badge.svg\" alt=\"Open In Colab\"/></a>"
      ]
    },
    {
      "cell_type": "markdown",
      "metadata": {
        "id": "reV6frpZavje"
      },
      "source": [
        "Fuzzy Logic"
      ]
    },
    {
      "cell_type": "markdown",
      "metadata": {
        "id": "DyaHeF_wwMgA"
      },
      "source": [
        "## Python modules"
      ]
    },
    {
      "cell_type": "code",
      "execution_count": null,
      "metadata": {
        "id": "j5_nhCEVpQvq"
      },
      "outputs": [],
      "source": [
        "import matplotlib.pyplot as plt"
      ]
    },
    {
      "cell_type": "code",
      "execution_count": null,
      "metadata": {
        "id": "PkkATpW1eHwM"
      },
      "outputs": [],
      "source": [
        "import pandas as pd"
      ]
    },
    {
      "cell_type": "code",
      "execution_count": null,
      "metadata": {
        "id": "xY6YzQ8ReHox"
      },
      "outputs": [],
      "source": [
        "import numpy as np"
      ]
    },
    {
      "cell_type": "code",
      "execution_count": null,
      "metadata": {
        "id": "mZSUxP48eHLI"
      },
      "outputs": [],
      "source": [
        "import random"
      ]
    },
    {
      "cell_type": "code",
      "source": [
        "from itertools import product"
      ],
      "metadata": {
        "id": "_T9ezg1xl2Ek"
      },
      "execution_count": null,
      "outputs": []
    },
    {
      "cell_type": "markdown",
      "metadata": {
        "id": "FNVuU1LmcuNC"
      },
      "source": [
        "# Speed Limit"
      ]
    },
    {
      "cell_type": "markdown",
      "metadata": {
        "id": "Ty28WHG-wZTI"
      },
      "source": [
        "## Creating Dataset"
      ]
    },
    {
      "cell_type": "code",
      "execution_count": null,
      "metadata": {
        "colab": {
          "base_uri": "https://localhost:8080/",
          "height": 519
        },
        "id": "OZcBCCDcbEwz",
        "outputId": "f28f8a0a-db5a-4101-94b0-c336ea34f9a4"
      },
      "outputs": [
        {
          "output_type": "execute_result",
          "data": {
            "text/plain": [
              "    Speed\n",
              "0      10\n",
              "1      20\n",
              "2      30\n",
              "3      40\n",
              "4      50\n",
              "5      60\n",
              "6      70\n",
              "7      80\n",
              "8      90\n",
              "9     100\n",
              "10    110\n",
              "11    120\n",
              "12    130\n",
              "13    140\n",
              "14    150"
            ],
            "text/html": [
              "\n",
              "  <div id=\"df-9b74f86c-07c8-4491-841e-799635f12b07\" class=\"colab-df-container\">\n",
              "    <div>\n",
              "<style scoped>\n",
              "    .dataframe tbody tr th:only-of-type {\n",
              "        vertical-align: middle;\n",
              "    }\n",
              "\n",
              "    .dataframe tbody tr th {\n",
              "        vertical-align: top;\n",
              "    }\n",
              "\n",
              "    .dataframe thead th {\n",
              "        text-align: right;\n",
              "    }\n",
              "</style>\n",
              "<table border=\"1\" class=\"dataframe\">\n",
              "  <thead>\n",
              "    <tr style=\"text-align: right;\">\n",
              "      <th></th>\n",
              "      <th>Speed</th>\n",
              "    </tr>\n",
              "  </thead>\n",
              "  <tbody>\n",
              "    <tr>\n",
              "      <th>0</th>\n",
              "      <td>10</td>\n",
              "    </tr>\n",
              "    <tr>\n",
              "      <th>1</th>\n",
              "      <td>20</td>\n",
              "    </tr>\n",
              "    <tr>\n",
              "      <th>2</th>\n",
              "      <td>30</td>\n",
              "    </tr>\n",
              "    <tr>\n",
              "      <th>3</th>\n",
              "      <td>40</td>\n",
              "    </tr>\n",
              "    <tr>\n",
              "      <th>4</th>\n",
              "      <td>50</td>\n",
              "    </tr>\n",
              "    <tr>\n",
              "      <th>5</th>\n",
              "      <td>60</td>\n",
              "    </tr>\n",
              "    <tr>\n",
              "      <th>6</th>\n",
              "      <td>70</td>\n",
              "    </tr>\n",
              "    <tr>\n",
              "      <th>7</th>\n",
              "      <td>80</td>\n",
              "    </tr>\n",
              "    <tr>\n",
              "      <th>8</th>\n",
              "      <td>90</td>\n",
              "    </tr>\n",
              "    <tr>\n",
              "      <th>9</th>\n",
              "      <td>100</td>\n",
              "    </tr>\n",
              "    <tr>\n",
              "      <th>10</th>\n",
              "      <td>110</td>\n",
              "    </tr>\n",
              "    <tr>\n",
              "      <th>11</th>\n",
              "      <td>120</td>\n",
              "    </tr>\n",
              "    <tr>\n",
              "      <th>12</th>\n",
              "      <td>130</td>\n",
              "    </tr>\n",
              "    <tr>\n",
              "      <th>13</th>\n",
              "      <td>140</td>\n",
              "    </tr>\n",
              "    <tr>\n",
              "      <th>14</th>\n",
              "      <td>150</td>\n",
              "    </tr>\n",
              "  </tbody>\n",
              "</table>\n",
              "</div>\n",
              "    <div class=\"colab-df-buttons\">\n",
              "\n",
              "  <div class=\"colab-df-container\">\n",
              "    <button class=\"colab-df-convert\" onclick=\"convertToInteractive('df-9b74f86c-07c8-4491-841e-799635f12b07')\"\n",
              "            title=\"Convert this dataframe to an interactive table.\"\n",
              "            style=\"display:none;\">\n",
              "\n",
              "  <svg xmlns=\"http://www.w3.org/2000/svg\" height=\"24px\" viewBox=\"0 -960 960 960\">\n",
              "    <path d=\"M120-120v-720h720v720H120Zm60-500h600v-160H180v160Zm220 220h160v-160H400v160Zm0 220h160v-160H400v160ZM180-400h160v-160H180v160Zm440 0h160v-160H620v160ZM180-180h160v-160H180v160Zm440 0h160v-160H620v160Z\"/>\n",
              "  </svg>\n",
              "    </button>\n",
              "\n",
              "  <style>\n",
              "    .colab-df-container {\n",
              "      display:flex;\n",
              "      gap: 12px;\n",
              "    }\n",
              "\n",
              "    .colab-df-convert {\n",
              "      background-color: #E8F0FE;\n",
              "      border: none;\n",
              "      border-radius: 50%;\n",
              "      cursor: pointer;\n",
              "      display: none;\n",
              "      fill: #1967D2;\n",
              "      height: 32px;\n",
              "      padding: 0 0 0 0;\n",
              "      width: 32px;\n",
              "    }\n",
              "\n",
              "    .colab-df-convert:hover {\n",
              "      background-color: #E2EBFA;\n",
              "      box-shadow: 0px 1px 2px rgba(60, 64, 67, 0.3), 0px 1px 3px 1px rgba(60, 64, 67, 0.15);\n",
              "      fill: #174EA6;\n",
              "    }\n",
              "\n",
              "    .colab-df-buttons div {\n",
              "      margin-bottom: 4px;\n",
              "    }\n",
              "\n",
              "    [theme=dark] .colab-df-convert {\n",
              "      background-color: #3B4455;\n",
              "      fill: #D2E3FC;\n",
              "    }\n",
              "\n",
              "    [theme=dark] .colab-df-convert:hover {\n",
              "      background-color: #434B5C;\n",
              "      box-shadow: 0px 1px 3px 1px rgba(0, 0, 0, 0.15);\n",
              "      filter: drop-shadow(0px 1px 2px rgba(0, 0, 0, 0.3));\n",
              "      fill: #FFFFFF;\n",
              "    }\n",
              "  </style>\n",
              "\n",
              "    <script>\n",
              "      const buttonEl =\n",
              "        document.querySelector('#df-9b74f86c-07c8-4491-841e-799635f12b07 button.colab-df-convert');\n",
              "      buttonEl.style.display =\n",
              "        google.colab.kernel.accessAllowed ? 'block' : 'none';\n",
              "\n",
              "      async function convertToInteractive(key) {\n",
              "        const element = document.querySelector('#df-9b74f86c-07c8-4491-841e-799635f12b07');\n",
              "        const dataTable =\n",
              "          await google.colab.kernel.invokeFunction('convertToInteractive',\n",
              "                                                    [key], {});\n",
              "        if (!dataTable) return;\n",
              "\n",
              "        const docLinkHtml = 'Like what you see? Visit the ' +\n",
              "          '<a target=\"_blank\" href=https://colab.research.google.com/notebooks/data_table.ipynb>data table notebook</a>'\n",
              "          + ' to learn more about interactive tables.';\n",
              "        element.innerHTML = '';\n",
              "        dataTable['output_type'] = 'display_data';\n",
              "        await google.colab.output.renderOutput(dataTable, element);\n",
              "        const docLink = document.createElement('div');\n",
              "        docLink.innerHTML = docLinkHtml;\n",
              "        element.appendChild(docLink);\n",
              "      }\n",
              "    </script>\n",
              "  </div>\n",
              "\n",
              "\n",
              "<div id=\"df-41396c55-37dd-477c-92d8-d3c968dec37c\">\n",
              "  <button class=\"colab-df-quickchart\" onclick=\"quickchart('df-41396c55-37dd-477c-92d8-d3c968dec37c')\"\n",
              "            title=\"Suggest charts.\"\n",
              "            style=\"display:none;\">\n",
              "\n",
              "<svg xmlns=\"http://www.w3.org/2000/svg\" height=\"24px\"viewBox=\"0 0 24 24\"\n",
              "     width=\"24px\">\n",
              "    <g>\n",
              "        <path d=\"M19 3H5c-1.1 0-2 .9-2 2v14c0 1.1.9 2 2 2h14c1.1 0 2-.9 2-2V5c0-1.1-.9-2-2-2zM9 17H7v-7h2v7zm4 0h-2V7h2v10zm4 0h-2v-4h2v4z\"/>\n",
              "    </g>\n",
              "</svg>\n",
              "  </button>\n",
              "\n",
              "<style>\n",
              "  .colab-df-quickchart {\n",
              "    background-color: #E8F0FE;\n",
              "    border: none;\n",
              "    border-radius: 50%;\n",
              "    cursor: pointer;\n",
              "    display: none;\n",
              "    fill: #1967D2;\n",
              "    height: 32px;\n",
              "    padding: 0 0 0 0;\n",
              "    width: 32px;\n",
              "  }\n",
              "\n",
              "  .colab-df-quickchart:hover {\n",
              "    background-color: #E2EBFA;\n",
              "    box-shadow: 0px 1px 2px rgba(60, 64, 67, 0.3), 0px 1px 3px 1px rgba(60, 64, 67, 0.15);\n",
              "    fill: #174EA6;\n",
              "  }\n",
              "\n",
              "  [theme=dark] .colab-df-quickchart {\n",
              "    background-color: #3B4455;\n",
              "    fill: #D2E3FC;\n",
              "  }\n",
              "\n",
              "  [theme=dark] .colab-df-quickchart:hover {\n",
              "    background-color: #434B5C;\n",
              "    box-shadow: 0px 1px 3px 1px rgba(0, 0, 0, 0.15);\n",
              "    filter: drop-shadow(0px 1px 2px rgba(0, 0, 0, 0.3));\n",
              "    fill: #FFFFFF;\n",
              "  }\n",
              "</style>\n",
              "\n",
              "  <script>\n",
              "    async function quickchart(key) {\n",
              "      const charts = await google.colab.kernel.invokeFunction(\n",
              "          'suggestCharts', [key], {});\n",
              "    }\n",
              "    (() => {\n",
              "      let quickchartButtonEl =\n",
              "        document.querySelector('#df-41396c55-37dd-477c-92d8-d3c968dec37c button');\n",
              "      quickchartButtonEl.style.display =\n",
              "        google.colab.kernel.accessAllowed ? 'block' : 'none';\n",
              "    })();\n",
              "  </script>\n",
              "</div>\n",
              "    </div>\n",
              "  </div>\n"
            ]
          },
          "metadata": {},
          "execution_count": 6
        }
      ],
      "source": [
        "data_list = []\n",
        "for i in range (10,151,10):\n",
        "  data_list.append(i)\n",
        "column_name = ['Speed']\n",
        "data_frame = pd.DataFrame(data_list , columns = column_name)\n",
        "\n",
        "data_frame"
      ]
    },
    {
      "cell_type": "markdown",
      "metadata": {
        "id": "O3VrtFX8lIwa"
      },
      "source": [
        "## Fuzzy Set A(Low_Speed_Limit)"
      ]
    },
    {
      "cell_type": "code",
      "execution_count": null,
      "metadata": {
        "id": "8CWn_HqNgI1w"
      },
      "outputs": [],
      "source": [
        "def fuzzy_membership_A(x):\n",
        "  if x < 30 :\n",
        "    return 1\n",
        "  elif x >= 30 and x < 50 :\n",
        "    return (x-30) / (50-30)\n",
        "  elif x >= 50 and x < 70 :\n",
        "    return (x-50) / (70-50)\n",
        "  else :\n",
        "    return 0"
      ]
    },
    {
      "cell_type": "code",
      "execution_count": null,
      "metadata": {
        "colab": {
          "base_uri": "https://localhost:8080/"
        },
        "id": "8YjJkWp2rfm_",
        "outputId": "8d4e6866-f3df-451a-a52b-09090216b61d"
      },
      "outputs": [
        {
          "output_type": "execute_result",
          "data": {
            "text/plain": [
              "[1, 1, 0.0, 0.5, 0.0, 0.5, 0, 0, 0, 0, 0, 0, 0, 0, 0]"
            ]
          },
          "metadata": {},
          "execution_count": 8
        }
      ],
      "source": [
        "membership_values_A = [fuzzy_membership_A(speed) for speed in data_list]\n",
        "membership_values_A"
      ]
    },
    {
      "cell_type": "markdown",
      "metadata": {
        "id": "fU5t98fbtT_4"
      },
      "source": [
        "## Fuzzy Set B(High_Speed_Limit)"
      ]
    },
    {
      "cell_type": "code",
      "execution_count": null,
      "metadata": {
        "id": "AnActJT9tGW_"
      },
      "outputs": [],
      "source": [
        "def fuzzy_membership_B(x) :\n",
        "  if x < 60 :\n",
        "    return 0\n",
        "  elif x>=60 and x<80 :\n",
        "    return (x-60) / (80-60)\n",
        "  elif x>=80 and x<100 :\n",
        "    return (x-80) / (100-80)\n",
        "  else:\n",
        "    return 1"
      ]
    },
    {
      "cell_type": "code",
      "execution_count": null,
      "metadata": {
        "colab": {
          "base_uri": "https://localhost:8080/"
        },
        "id": "pioZ8GLquiJ4",
        "outputId": "d15c55bd-31b7-4a6d-a696-b173447c9a51"
      },
      "outputs": [
        {
          "output_type": "execute_result",
          "data": {
            "text/plain": [
              "[0, 0, 0, 0, 0, 0.0, 0.5, 0.0, 0.5, 1, 1, 1, 1, 1, 1]"
            ]
          },
          "metadata": {},
          "execution_count": 10
        }
      ],
      "source": [
        "membership_values_B = [fuzzy_membership_B(speed) for speed in data_list]\n",
        "membership_values_B"
      ]
    },
    {
      "cell_type": "markdown",
      "metadata": {
        "id": "Mhmd4B1bWJlS"
      },
      "source": [
        "## Union of fuzzy set A and B"
      ]
    },
    {
      "cell_type": "code",
      "execution_count": null,
      "metadata": {
        "id": "COp269t9WITi"
      },
      "outputs": [],
      "source": [
        "def fuzzy_union(A, B):\n",
        "    membership_values_C = [max(a,b) for a,b in zip(A,B)]\n",
        "    return membership_values_C"
      ]
    },
    {
      "cell_type": "code",
      "execution_count": null,
      "metadata": {
        "colab": {
          "base_uri": "https://localhost:8080/"
        },
        "id": "Yb6zye19yGum",
        "outputId": "dceb849a-9ee5-4336-bcb7-e96cb0c8a1be"
      },
      "outputs": [
        {
          "output_type": "execute_result",
          "data": {
            "text/plain": [
              "[1, 1, 0.0, 0.5, 0.0, 0.5, 0.5, 0, 0.5, 1, 1, 1, 1, 1, 1]"
            ]
          },
          "metadata": {},
          "execution_count": 12
        }
      ],
      "source": [
        "membership_values_C = fuzzy_union(membership_values_A,membership_values_B)\n",
        "membership_values_C"
      ]
    },
    {
      "cell_type": "markdown",
      "metadata": {
        "id": "EqMBf13kAE1w"
      },
      "source": [
        "## Intersection of fuzzy set A and B"
      ]
    },
    {
      "cell_type": "code",
      "execution_count": null,
      "metadata": {
        "id": "tQBg7G7eAUwF"
      },
      "outputs": [],
      "source": [
        "def fuzzy_intersection(A, B):\n",
        "  membership_values_D = [min(a,b) for a,b in zip(A,B)]\n",
        "  return membership_values_D"
      ]
    },
    {
      "cell_type": "code",
      "execution_count": null,
      "metadata": {
        "colab": {
          "base_uri": "https://localhost:8080/"
        },
        "id": "ZgNcDpjDCpnC",
        "outputId": "84db96b7-2959-4d57-dfb7-24a132132761"
      },
      "outputs": [
        {
          "output_type": "execute_result",
          "data": {
            "text/plain": [
              "[0, 0, 0.0, 0, 0.0, 0.0, 0, 0, 0, 0, 0, 0, 0, 0, 0]"
            ]
          },
          "metadata": {},
          "execution_count": 15
        }
      ],
      "source": [
        "membership_values_D = fuzzy_intersection(membership_values_A,membership_values_B)\n",
        "membership_values_D"
      ]
    },
    {
      "cell_type": "markdown",
      "source": [
        "## Membership curve"
      ],
      "metadata": {
        "id": "nUWCey4dL4Cp"
      }
    },
    {
      "cell_type": "code",
      "execution_count": null,
      "metadata": {
        "colab": {
          "base_uri": "https://localhost:8080/",
          "height": 564
        },
        "id": "_A8Z8Eb0bbg3",
        "outputId": "b7684b24-5f89-445a-e994-4ee74f4a2df5"
      },
      "outputs": [
        {
          "output_type": "display_data",
          "data": {
            "text/plain": [
              "<Figure size 1000x600 with 1 Axes>"
            ],
            "image/png": "[encoded data removed]"
          },
          "metadata": {}
        }
      ],
      "source": [
        "plt.figure(figsize=(10, 6))\n",
        "values = list(range(len(membership_values_C)))\n",
        "plt.plot(values, membership_values_C, label='Membership_union_curve', color='green')\n",
        "values = list(range(len(membership_values_D)))\n",
        "plt.plot(values, membership_values_D, label='Membership_intersection_curve', color='red')\n",
        "plt.xlabel('Values')\n",
        "plt.ylabel('Membership Degree')\n",
        "plt.title('Combined Membership Functions of Fuzzy Sets A and B')\n",
        "plt.legend()\n",
        "plt.show()"
      ]
    },
    {
      "cell_type": "markdown",
      "metadata": {
        "id": "Kwj8Hzc6c0ZC"
      },
      "source": [
        "# Temprature"
      ]
    },
    {
      "cell_type": "markdown",
      "metadata": {
        "id": "7d_Ixjj9dqvQ"
      },
      "source": [
        "## Creating Dataset"
      ]
    },
    {
      "cell_type": "code",
      "execution_count": null,
      "metadata": {
        "colab": {
          "base_uri": "https://localhost:8080/",
          "height": 457
        },
        "id": "tZWOYO-hdz60",
        "outputId": "409f2f3b-680c-4894-9e1f-5cd2b864f756"
      },
      "outputs": [
        {
          "output_type": "execute_result",
          "data": {
            "text/plain": [
              "    Temprature\n",
              "0          -10\n",
              "1           -5\n",
              "2            0\n",
              "3            5\n",
              "4           10\n",
              "5           15\n",
              "6           20\n",
              "7           25\n",
              "8           30\n",
              "9           35\n",
              "10          40\n",
              "11          45\n",
              "12          50"
            ],
            "text/html": [
              "\n",
              "  <div id=\"df-5b546343-37f2-4710-9d55-bfd74c958dc4\" class=\"colab-df-container\">\n",
              "    <div>\n",
              "<style scoped>\n",
              "    .dataframe tbody tr th:only-of-type {\n",
              "        vertical-align: middle;\n",
              "    }\n",
              "\n",
              "    .dataframe tbody tr th {\n",
              "        vertical-align: top;\n",
              "    }\n",
              "\n",
              "    .dataframe thead th {\n",
              "        text-align: right;\n",
              "    }\n",
              "</style>\n",
              "<table border=\"1\" class=\"dataframe\">\n",
              "  <thead>\n",
              "    <tr style=\"text-align: right;\">\n",
              "      <th></th>\n",
              "      <th>Temprature</th>\n",
              "    </tr>\n",
              "  </thead>\n",
              "  <tbody>\n",
              "    <tr>\n",
              "      <th>0</th>\n",
              "      <td>-10</td>\n",
              "    </tr>\n",
              "    <tr>\n",
              "      <th>1</th>\n",
              "      <td>-5</td>\n",
              "    </tr>\n",
              "    <tr>\n",
              "      <th>2</th>\n",
              "      <td>0</td>\n",
              "    </tr>\n",
              "    <tr>\n",
              "      <th>3</th>\n",
              "      <td>5</td>\n",
              "    </tr>\n",
              "    <tr>\n",
              "      <th>4</th>\n",
              "      <td>10</td>\n",
              "    </tr>\n",
              "    <tr>\n",
              "      <th>5</th>\n",
              "      <td>15</td>\n",
              "    </tr>\n",
              "    <tr>\n",
              "      <th>6</th>\n",
              "      <td>20</td>\n",
              "    </tr>\n",
              "    <tr>\n",
              "      <th>7</th>\n",
              "      <td>25</td>\n",
              "    </tr>\n",
              "    <tr>\n",
              "      <th>8</th>\n",
              "      <td>30</td>\n",
              "    </tr>\n",
              "    <tr>\n",
              "      <th>9</th>\n",
              "      <td>35</td>\n",
              "    </tr>\n",
              "    <tr>\n",
              "      <th>10</th>\n",
              "      <td>40</td>\n",
              "    </tr>\n",
              "    <tr>\n",
              "      <th>11</th>\n",
              "      <td>45</td>\n",
              "    </tr>\n",
              "    <tr>\n",
              "      <th>12</th>\n",
              "      <td>50</td>\n",
              "    </tr>\n",
              "  </tbody>\n",
              "</table>\n",
              "</div>\n",
              "    <div class=\"colab-df-buttons\">\n",
              "\n",
              "  <div class=\"colab-df-container\">\n",
              "    <button class=\"colab-df-convert\" onclick=\"convertToInteractive('df-5b546343-37f2-4710-9d55-bfd74c958dc4')\"\n",
              "            title=\"Convert this dataframe to an interactive table.\"\n",
              "            style=\"display:none;\">\n",
              "\n",
              "  <svg xmlns=\"http://www.w3.org/2000/svg\" height=\"24px\" viewBox=\"0 -960 960 960\">\n",
              "    <path d=\"M120-120v-720h720v720H120Zm60-500h600v-160H180v160Zm220 220h160v-160H400v160Zm0 220h160v-160H400v160ZM180-400h160v-160H180v160Zm440 0h160v-160H620v160ZM180-180h160v-160H180v160Zm440 0h160v-160H620v160Z\"/>\n",
              "  </svg>\n",
              "    </button>\n",
              "\n",
              "  <style>\n",
              "    .colab-df-container {\n",
              "      display:flex;\n",
              "      gap: 12px;\n",
              "    }\n",
              "\n",
              "    .colab-df-convert {\n",
              "      background-color: #E8F0FE;\n",
              "      border: none;\n",
              "      border-radius: 50%;\n",
              "      cursor: pointer;\n",
              "      display: none;\n",
              "      fill: #1967D2;\n",
              "      height: 32px;\n",
              "      padding: 0 0 0 0;\n",
              "      width: 32px;\n",
              "    }\n",
              "\n",
              "    .colab-df-convert:hover {\n",
              "      background-color: #E2EBFA;\n",
              "      box-shadow: 0px 1px 2px rgba(60, 64, 67, 0.3), 0px 1px 3px 1px rgba(60, 64, 67, 0.15);\n",
              "      fill: #174EA6;\n",
              "    }\n",
              "\n",
              "    .colab-df-buttons div {\n",
              "      margin-bottom: 4px;\n",
              "    }\n",
              "\n",
              "    [theme=dark] .colab-df-convert {\n",
              "      background-color: #3B4455;\n",
              "      fill: #D2E3FC;\n",
              "    }\n",
              "\n",
              "    [theme=dark] .colab-df-convert:hover {\n",
              "      background-color: #434B5C;\n",
              "      box-shadow: 0px 1px 3px 1px rgba(0, 0, 0, 0.15);\n",
              "      filter: drop-shadow(0px 1px 2px rgba(0, 0, 0, 0.3));\n",
              "      fill: #FFFFFF;\n",
              "    }\n",
              "  </style>\n",
              "\n",
              "    <script>\n",
              "      const buttonEl =\n",
              "        document.querySelector('#df-5b546343-37f2-4710-9d55-bfd74c958dc4 button.colab-df-convert');\n",
              "      buttonEl.style.display =\n",
              "        google.colab.kernel.accessAllowed ? 'block' : 'none';\n",
              "\n",
              "      async function convertToInteractive(key) {\n",
              "        const element = document.querySelector('#df-5b546343-37f2-4710-9d55-bfd74c958dc4');\n",
              "        const dataTable =\n",
              "          await google.colab.kernel.invokeFunction('convertToInteractive',\n",
              "                                                    [key], {});\n",
              "        if (!dataTable) return;\n",
              "\n",
              "        const docLinkHtml = 'Like what you see? Visit the ' +\n",
              "          '<a target=\"_blank\" href=https://colab.research.google.com/notebooks/data_table.ipynb>data table notebook</a>'\n",
              "          + ' to learn more about interactive tables.';\n",
              "        element.innerHTML = '';\n",
              "        dataTable['output_type'] = 'display_data';\n",
              "        await google.colab.output.renderOutput(dataTable, element);\n",
              "        const docLink = document.createElement('div');\n",
              "        docLink.innerHTML = docLinkHtml;\n",
              "        element.appendChild(docLink);\n",
              "      }\n",
              "    </script>\n",
              "  </div>\n",
              "\n",
              "\n",
              "<div id=\"df-22f6399e-5c63-408e-985f-0cfa313c65ea\">\n",
              "  <button class=\"colab-df-quickchart\" onclick=\"quickchart('df-22f6399e-5c63-408e-985f-0cfa313c65ea')\"\n",
              "            title=\"Suggest charts.\"\n",
              "            style=\"display:none;\">\n",
              "\n",
              "<svg xmlns=\"http://www.w3.org/2000/svg\" height=\"24px\"viewBox=\"0 0 24 24\"\n",
              "     width=\"24px\">\n",
              "    <g>\n",
              "        <path d=\"M19 3H5c-1.1 0-2 .9-2 2v14c0 1.1.9 2 2 2h14c1.1 0 2-.9 2-2V5c0-1.1-.9-2-2-2zM9 17H7v-7h2v7zm4 0h-2V7h2v10zm4 0h-2v-4h2v4z\"/>\n",
              "    </g>\n",
              "</svg>\n",
              "  </button>\n",
              "\n",
              "<style>\n",
              "  .colab-df-quickchart {\n",
              "    background-color: #E8F0FE;\n",
              "    border: none;\n",
              "    border-radius: 50%;\n",
              "    cursor: pointer;\n",
              "    display: none;\n",
              "    fill: #1967D2;\n",
              "    height: 32px;\n",
              "    padding: 0 0 0 0;\n",
              "    width: 32px;\n",
              "  }\n",
              "\n",
              "  .colab-df-quickchart:hover {\n",
              "    background-color: #E2EBFA;\n",
              "    box-shadow: 0px 1px 2px rgba(60, 64, 67, 0.3), 0px 1px 3px 1px rgba(60, 64, 67, 0.15);\n",
              "    fill: #174EA6;\n",
              "  }\n",
              "\n",
              "  [theme=dark] .colab-df-quickchart {\n",
              "    background-color: #3B4455;\n",
              "    fill: #D2E3FC;\n",
              "  }\n",
              "\n",
              "  [theme=dark] .colab-df-quickchart:hover {\n",
              "    background-color: #434B5C;\n",
              "    box-shadow: 0px 1px 3px 1px rgba(0, 0, 0, 0.15);\n",
              "    filter: drop-shadow(0px 1px 2px rgba(0, 0, 0, 0.3));\n",
              "    fill: #FFFFFF;\n",
              "  }\n",
              "</style>\n",
              "\n",
              "  <script>\n",
              "    async function quickchart(key) {\n",
              "      const charts = await google.colab.kernel.invokeFunction(\n",
              "          'suggestCharts', [key], {});\n",
              "    }\n",
              "    (() => {\n",
              "      let quickchartButtonEl =\n",
              "        document.querySelector('#df-22f6399e-5c63-408e-985f-0cfa313c65ea button');\n",
              "      quickchartButtonEl.style.display =\n",
              "        google.colab.kernel.accessAllowed ? 'block' : 'none';\n",
              "    })();\n",
              "  </script>\n",
              "</div>\n",
              "    </div>\n",
              "  </div>\n"
            ]
          },
          "metadata": {},
          "execution_count": 17
        }
      ],
      "source": [
        "data_list = []\n",
        "for i in range (-10,51,5):\n",
        "  data_list.append(i)\n",
        "column_name = ['Temprature']\n",
        "data_frame = pd.DataFrame(data_list , columns = column_name)\n",
        "\n",
        "data_frame"
      ]
    },
    {
      "cell_type": "markdown",
      "metadata": {
        "id": "3_ebZUlhc-TI"
      },
      "source": [
        "## Fuzzy Set C(Cold)"
      ]
    },
    {
      "cell_type": "code",
      "execution_count": null,
      "metadata": {
        "id": "MLUOZN8Yc8W2"
      },
      "outputs": [],
      "source": [
        "def fuzzy_set_C(x):\n",
        "  if x < -10 :\n",
        "    return 0\n",
        "  elif x >= -10 and x < 0 :\n",
        "    return (x-(-10))/(0-(-10))\n",
        "  elif x >= 0 and x < 5 :\n",
        "    return 1\n",
        "  else :\n",
        "    return 0"
      ]
    },
    {
      "cell_type": "code",
      "execution_count": null,
      "metadata": {
        "colab": {
          "base_uri": "https://localhost:8080/"
        },
        "id": "mxNecIy3fd_2",
        "outputId": "62cc864e-2ea4-4039-c206-b4032df67071"
      },
      "outputs": [
        {
          "output_type": "execute_result",
          "data": {
            "text/plain": [
              "array([0. , 0.5, 1. , 0. , 0. , 0. , 0. , 0. , 0. , 0. , 0. , 0. , 0. ])"
            ]
          },
          "metadata": {},
          "execution_count": 44
        }
      ],
      "source": [
        "membership_val_C = [fuzzy_set_C(t) for t in data_list]\n",
        "val_C = np.array(membership_val_C)\n",
        "val_C"
      ]
    },
    {
      "cell_type": "markdown",
      "metadata": {
        "id": "N0cy2NB0dHNA"
      },
      "source": [
        "## Fuzzy Set D(Warm)"
      ]
    },
    {
      "cell_type": "code",
      "execution_count": null,
      "metadata": {
        "id": "2al2g3t2dMzd"
      },
      "outputs": [],
      "source": [
        "def fuzzy_set_D(x):\n",
        "  if x < 25 :\n",
        "    return 0\n",
        "  elif x >= 25 and x < 35 :\n",
        "    return (x-25)/(35-25)\n",
        "  elif x >= 35 and x < 40 :\n",
        "    return 1\n",
        "  else :\n",
        "    return 0"
      ]
    },
    {
      "cell_type": "code",
      "execution_count": null,
      "metadata": {
        "colab": {
          "base_uri": "https://localhost:8080/"
        },
        "id": "mTNl95iRWGsS",
        "outputId": "b259cc79-776a-4b87-e4de-83c25ca16c18"
      },
      "outputs": [
        {
          "output_type": "execute_result",
          "data": {
            "text/plain": [
              "array([0. , 0. , 0. , 0. , 0. , 0. , 0. , 0. , 0.5, 1. , 0. , 0. , 0. ])"
            ]
          },
          "metadata": {},
          "execution_count": 43
        }
      ],
      "source": [
        "membership_val_D = [fuzzy_set_D(t) for t in data_list]\n",
        "val_D = np.array(membership_val_D)\n",
        "val_D"
      ]
    },
    {
      "cell_type": "markdown",
      "metadata": {
        "id": "mNgdzMOmenFg"
      },
      "source": [
        "## Max Min Composition of fuzzy set C and D"
      ]
    },
    {
      "cell_type": "code",
      "execution_count": null,
      "metadata": {
        "id": "FD6uBW2Pljpv"
      },
      "outputs": [],
      "source": [
        "def fuzzy_set_F(C, D):\n",
        "  T = D.transpose()\n",
        "  F = []\n",
        "  for a in T:\n",
        "    row = [min(a,b) for b in C]\n",
        "    F.append(row)\n",
        "  return F"
      ]
    },
    {
      "cell_type": "code",
      "execution_count": null,
      "metadata": {
        "id": "OiRoopZ-l3qt"
      },
      "outputs": [],
      "source": [
        "def maxColumn(my_list):\n",
        "\n",
        "    m = len(my_list)\n",
        "    n = len(my_list[0])\n",
        "\n",
        "    mat = []\n",
        "    for col in range(n):\n",
        "        col_max = my_list[0][col]\n",
        "        for row in range(1, m):\n",
        "\n",
        "            col_max = max(col_max, my_list[row][col])\n",
        "\n",
        "        mat.append(col_max)\n",
        "    return mat\n"
      ]
    },
    {
      "cell_type": "code",
      "source": [
        "matrix = fuzzy_set_F(val_C, val_D)\n",
        "membership_val_F = maxColumn(matrix)\n",
        "membership_val_F"
      ],
      "metadata": {
        "colab": {
          "base_uri": "https://localhost:8080/"
        },
        "id": "QKvTp45fIdY5",
        "outputId": "dcfd3fdb-b646-4426-b1b1-65f22ab9cd16"
      },
      "execution_count": null,
      "outputs": [
        {
          "output_type": "execute_result",
          "data": {
            "text/plain": [
              "[0.0, 0.5, 1.0, 0.0, 0.0, 0.0, 0.0, 0.0, 0.0, 0.0, 0.0, 0.0, 0.0]"
            ]
          },
          "metadata": {},
          "execution_count": 54
        }
      ]
    },
    {
      "cell_type": "markdown",
      "source": [
        "## Membership curve of F(x)"
      ],
      "metadata": {
        "id": "vI7G4sBuNrqX"
      }
    },
    {
      "cell_type": "code",
      "source": [
        "plt.figure(figsize=(10, 6))\n",
        "values = list(range(len(membership_val_F)))\n",
        "plt.plot(values, membership_val_F, label='Membership_curve', color='blue')\n",
        "plt.xlabel('Values')\n",
        "plt.ylabel('Membership Degree')\n",
        "plt.title('Membership curve of F(x)')\n",
        "plt.show()"
      ],
      "metadata": {
        "colab": {
          "base_uri": "https://localhost:8080/",
          "height": 564
        },
        "id": "JDM3to9SNRED",
        "outputId": "abc7ba32-309f-4170-92bc-1823e62a4ed6"
      },
      "execution_count": null,
      "outputs": [
        {
          "output_type": "display_data",
          "data": {
            "text/plain": [
              "<Figure size 1000x600 with 1 Axes>"
            ],
            "image/png": "[encoded data removed]"
          },
          "metadata": {}
        }
      ]
    },
    {
      "cell_type": "markdown",
      "source": [
        "# Mamdani Fuzzy Inference System"
      ],
      "metadata": {
        "id": "GgryedwYpIR3"
      }
    },
    {
      "cell_type": "markdown",
      "source": [
        "## Control the FAN-SPEED of a furnace by inputting TEMPERATURE of a thermostat of a household.\n"
      ],
      "metadata": {
        "id": "Zd9odim53jH0"
      }
    },
    {
      "cell_type": "code",
      "source": [
        "def temperature_to_fan_speed(temperature):\n",
        "    # Defining the membership functions for TEMPERATURE\n",
        "    risky = 0\n",
        "    average = 0\n",
        "    excellent = 0\n",
        "\n",
        "    # Calculating the degree of membership for each linguistic term\n",
        "    if temperature <= 30:\n",
        "        risky = 1.0\n",
        "    elif temperature <= 50:\n",
        "        risky = (50 - temperature) / 20.0\n",
        "        average = (temperature - 30) / 20.0\n",
        "    elif temperature <= 1:\n",
        "        average = (70 - temperature) / 20.0\n",
        "        excellent = (temperature - 50) / 20.0\n",
        "    else:\n",
        "        excellent = 1.0\n",
        "\n",
        "    # Defining membership functions for FAN-SPEED\n",
        "    slow = 0\n",
        "    moderate = 0\n",
        "    high = 0\n",
        "\n",
        "    # Applying fuzzy rules\n",
        "    if risky > 0:\n",
        "        slow = max(slow, risky)\n",
        "    if average > 0:\n",
        "        moderate = max(moderate, average)\n",
        "    if excellent > 0:\n",
        "        high = max(high, excellent)\n",
        "\n",
        "    # Defuzzifying using the centroid method\n",
        "    total_membership = slow + moderate + high\n",
        "    if total_membership == 0:\n",
        "        return 0\n",
        "    else:\n",
        "        fan_speed = (slow * 100 + moderate * 200 + high * 300) / total_membership\n",
        "        return fan_speed"
      ],
      "metadata": {
        "id": "koK22H2y2TtM"
      },
      "execution_count": 18,
      "outputs": []
    },
    {
      "cell_type": "markdown",
      "source": [
        "## Calculating the crisp value of FAN-SPEED"
      ],
      "metadata": {
        "id": "qJUz4vHvReMz"
      }
    },
    {
      "cell_type": "code",
      "source": [
        "temperature_input = 85  # Given as example in assignment sheet.\n",
        "fan_speed_output = temperature_to_fan_speed(temperature_input)\n",
        "\n",
        "print(f\"For a temperature of {temperature_input}°C, the recommended fan speed is {fan_speed_output} RPM.\")"
      ],
      "metadata": {
        "colab": {
          "base_uri": "https://localhost:8080/"
        },
        "id": "10dqeNyMRcq5",
        "outputId": "88ff6d35-eef9-4ca1-a464-3c3a6d71fe67"
      },
      "execution_count": 19,
      "outputs": [
        {
          "output_type": "stream",
          "name": "stdout",
          "text": [
            "For a temperature of 85°C, the recommended fan speed is 300.0 RPM.\n"
          ]
        }
      ]
    }
  ],
  "metadata": {
    "colab": {
      "collapsed_sections": [
        "DyaHeF_wwMgA",
        "Ty28WHG-wZTI",
        "O3VrtFX8lIwa",
        "fU5t98fbtT_4"
      ],
      "provenance": [],
      "authorship_tag": "ABX9TyP3Q0z4lAvysbncoOjiEHxU",
      "include_colab_link": true
    },
    "kernelspec": {
      "display_name": "Python 3",
      "name": "python3"
    },
    "language_info": {
      "name": "python"
    }
  },
  "nbformat": 4,
  "nbformat_minor": 0
}